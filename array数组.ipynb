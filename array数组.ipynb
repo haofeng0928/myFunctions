{
 "cells": [
  {
   "cell_type": "code",
   "execution_count": 3,
   "metadata": {},
   "outputs": [],
   "source": [
    "# 输入数组\n",
    "\n",
    "# a = input()# 字符串\n",
    "# print(a)\n",
    "\n",
    "# a = input().strip().split()# 字符串列表\n",
    "# print(a)\n",
    "\n",
    "# a = list(map(int, input().strip().split()))# 数字字符串列表转数组\n",
    "# print(a)\n",
    "\n",
    "# # 多行数组转多维\n",
    "# lines = []\n",
    "# while True:\n",
    "#     line = input()\n",
    "#     if not line:\n",
    "#         break\n",
    "#     line = list(map(int, line.strip().split()))\n",
    "#     lines.append(line)\n",
    "# print(lines)\n",
    "\n",
    "# # sys模块多行数组转多维，脚本下可用\n",
    "# import sys\n",
    "# lines = []\n",
    "# while True:\n",
    "#     line = sys.stdin.readline()\n",
    "#     if line == '\\n':\n",
    "#         break\n",
    "#     lines.append(list(map(int, line.strip().split())))\n",
    "# print(lines)"
   ]
  },
  {
   "cell_type": "code",
   "execution_count": 4,
   "metadata": {},
   "outputs": [
    {
     "ename": "SyntaxError",
     "evalue": "keyword can't be an expression (<ipython-input-4-7280ed96213c>, line 22)",
     "output_type": "error",
     "traceback": [
      "\u001b[1;36m  File \u001b[1;32m\"<ipython-input-4-7280ed96213c>\"\u001b[1;36m, line \u001b[1;32m22\u001b[0m\n\u001b[1;33m    print( (str(123)+str(456)) = 123456)\u001b[0m\n\u001b[1;37m          ^\u001b[0m\n\u001b[1;31mSyntaxError\u001b[0m\u001b[1;31m:\u001b[0m keyword can't be an expression\n"
     ]
    }
   ],
   "source": [
    "# 操作数组\n",
    "\n",
    "# # 多维字符转一维\n",
    "# str_a = [['a','b','t','g'], ['c','f','c','s'], ['j','d','e','h']]\n",
    "# str_b = []\n",
    "# for i in str_a:\n",
    "#     for j in i:\n",
    "#         str_b.append(j)\n",
    "# print(str_b)\n",
    "\n",
    "# # 多维字符初始化\n",
    "# str_ = [[False]*4 for i in range(3)]\n",
    "# str_[0][0] = True\n",
    "# print(str_)\n",
    "# mat = [[0 for i in range(4)] for j in range(3)]\n",
    "# mat[0][0] = 1\n",
    "# print(mat)\n",
    "\n",
    "# # 数字转字符求和（位上数的和）\n",
    "# print(sum(map(int, str(123)+str(1234))))\n",
    "\n",
    "print(str(123)+str(456))\n",
    "print( (str(123)+str(456)) = 123456)"
   ]
  },
  {
   "cell_type": "code",
   "execution_count": 2,
   "metadata": {},
   "outputs": [
    {
     "name": "stdout",
     "output_type": "stream",
     "text": [
      "[1, 2, 1, 2, 3, 1, 2, 3, 4, 1, 2, 3, 4, 1, 2, 3, 4, 5, 5, 6]\n"
     ]
    }
   ],
   "source": [
    "# 华为笔试题\n",
    "\n",
    "# 题目：输入多个一维数组，每次取这些一维数组的前n个元素放入一个新的一维数组，直到取完所有元素\n",
    "\n",
    "def newMerge(lenth, lines):\n",
    "    \n",
    "    lines_len = len(lines)\n",
    "    result = []\n",
    "    \n",
    "    # 进入循环\n",
    "    count = 1\n",
    "    while count > 0:\n",
    "        \n",
    "        # 遍历每行数组\n",
    "        for i in range(len(lines)):\n",
    "            \n",
    "            # 第i行数组的长度\n",
    "            len_ = len(lines[i])\n",
    "            \n",
    "            for j in range(min(lenth, len_)):\n",
    "                \n",
    "                # 依次添加min(lenth, len_)个元素，同时删除添加过的元素\n",
    "                result.append(lines[i][0])\n",
    "                del lines[i][0]\n",
    "                \n",
    "        # 统计数组中元素个数\n",
    "        count = 0\n",
    "        for m in range(len(lines)):\n",
    "            for n in range(len(lines[m])):\n",
    "                count += 1\n",
    "        \n",
    "    return result\n",
    "\n",
    "if __name__ == '__main__':\n",
    "    \n",
    "#     # 输入每次处理的长度\n",
    "#     lenth = int(input().strip())\n",
    "    \n",
    "#     # 输入多行数组\n",
    "#     lines = []\n",
    "#     line = input()\n",
    "#     while line != '':\n",
    "#         line = line.split(',')\n",
    "#         line = [int(i) for i in line]\n",
    "#         lines.append(line)\n",
    "#         line = input()\n",
    "    \n",
    "#     print(lines)\n",
    "    \n",
    "    lenth = 4\n",
    "    lines = [[1, 2], [1, 2, 3], [1, 2, 3, 4], [1, 2, 3, 4, 5], [1, 2, 3, 4, 5, 6]]\n",
    "    print(newMerge(lenth, lines))"
   ]
  },
  {
   "cell_type": "code",
   "execution_count": 3,
   "metadata": {},
   "outputs": [
    {
     "name": "stdout",
     "output_type": "stream",
     "text": [
      "0 3\n",
      "2 1\n",
      "False\n",
      "True\n",
      "False\n",
      "True\n",
      "4294967287\n",
      "4\n"
     ]
    }
   ],
   "source": [
    "# 位运算\n",
    "\n",
    "# &、|和and、or用来比较两组变量，基本格式：\n",
    "# a & b\n",
    "# a | b\n",
    "# a and b\n",
    "# a or b\n",
    "\n",
    "# 如果a，b是数值变量，则&、|表示位运算，and、or则依据是否非0来决定输出\n",
    "# and中含0则返回0，均为非0则返回后一个值\n",
    "# or中至少有一个非0时，返回第一个非0\n",
    "print(1 & 2, 1 | 2)\n",
    "print(1 and 2, 1 or 2)\n",
    "\n",
    "# 如果a, b是逻辑变量，则两类的用法基本一致\n",
    "print((3>0) & (3<1))\n",
    "print((3>0) | (3<1))\n",
    "print((3>0) and (3<1))\n",
    "print((3>0) or (3<1))\n",
    "\n",
    "# n & 0xffffffff得到n的补码\n",
    "# 正数不变，负数将符号为置零，变为正数\n",
    "num = -9\n",
    "print(num & 0xffffffff)\n",
    "\n",
    "# 左移<<、右移>>\n",
    "mask = 1\n",
    "mask <<= 2\n",
    "print(mask)"
   ]
  }
 ],
 "metadata": {
  "kernelspec": {
   "display_name": "Python 3",
   "language": "python",
   "name": "python3"
  },
  "language_info": {
   "codemirror_mode": {
    "name": "ipython",
    "version": 3
   },
   "file_extension": ".py",
   "mimetype": "text/x-python",
   "name": "python",
   "nbconvert_exporter": "python",
   "pygments_lexer": "ipython3",
   "version": "3.7.0"
  }
 },
 "nbformat": 4,
 "nbformat_minor": 2
}
