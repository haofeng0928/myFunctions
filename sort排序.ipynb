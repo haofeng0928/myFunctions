{
 "cells": [
  {
   "cell_type": "code",
   "execution_count": 1,
   "metadata": {},
   "outputs": [
    {
     "name": "stdout",
     "output_type": "stream",
     "text": [
      "[0, 1, 2, 3, 4, 5, 6]\n"
     ]
    }
   ],
   "source": [
    "# 和0交换排序\n",
    "\n",
    "# 时间复杂度O（n2）\n",
    "\n",
    "def zeroSort(alist):\n",
    "    \n",
    "    n = len(alist)\n",
    "    \n",
    "    for i in range(n-1, 0, -1):\n",
    "        \n",
    "        # 获取0的下标，并与i下标的数交换\n",
    "        inx = alist.index(0)\n",
    "        alist[inx], alist[i] = alist[i], alist[inx]\n",
    "        \n",
    "        # 每次将i下标的数归位\n",
    "        inx = alist.index(0)\n",
    "        inx2 = alist.index(i)\n",
    "        alist[inx], alist[inx2] = alist[inx2], alist[inx]\n",
    "    \n",
    "    return alist\n",
    "    \n",
    "if __name__ == '__main__':\n",
    "    alist = [4,6,1,0,5,3,2]\n",
    "    print(zeroSort(alist))\n",
    "    \n",
    "# def zeroSort(alist):\n",
    "    \n",
    "#     n = len(alist)\n",
    "    \n",
    "#     while n > 0:\n",
    "        \n",
    "#         # 0的下标\n",
    "#         inx = alist.index(0)\n",
    "        \n",
    "#         # inx的下标\n",
    "#         inx2 = alist.index(inx)\n",
    "        \n",
    "#         # 有可能提前结束交换!!!!!!!!!!!!!!!!!!\n",
    "#         alist[inx], alist[inx2] = alist[inx2], alist[inx]\n",
    "        \n",
    "#         n -= 1\n",
    "    \n",
    "#     return alist\n",
    "    \n",
    "# if __name__ == '__main__':\n",
    "#     alist = [1,0,3,2]\n",
    "#     print(zeroSort(alist))"
   ]
  }
 ],
 "metadata": {
  "kernelspec": {
   "display_name": "Python 3",
   "language": "python",
   "name": "python3"
  },
  "language_info": {
   "codemirror_mode": {
    "name": "ipython",
    "version": 3
   },
   "file_extension": ".py",
   "mimetype": "text/x-python",
   "name": "python",
   "nbconvert_exporter": "python",
   "pygments_lexer": "ipython3",
   "version": "3.7.0"
  }
 },
 "nbformat": 4,
 "nbformat_minor": 2
}
