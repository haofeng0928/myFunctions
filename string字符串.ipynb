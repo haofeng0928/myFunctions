{
 "cells": [
  {
   "cell_type": "code",
   "execution_count": 2,
   "metadata": {},
   "outputs": [
    {
     "name": "stdout",
     "output_type": "stream",
     "text": [
      "hello 222 world 123\n",
      "hello 222 world 222\n"
     ]
    }
   ],
   "source": [
    "# 字符串替换\n",
    "\n",
    "# replace替换字符串\n",
    "str_ = \"hello 111 world 123\"\n",
    "str_ = str_.replace(\"111\", \"222\")\n",
    "print(str_)\n",
    "\n",
    "# re模块替换字符串\n",
    "import re\n",
    "str_ = \"hello 111 world 123\"\n",
    "str_ = re.sub(\"\\d+\", \"222\", str_)\n",
    "print(str_)"
   ]
  },
  {
   "cell_type": "code",
   "execution_count": 35,
   "metadata": {},
   "outputs": [
    {
     "name": "stdout",
     "output_type": "stream",
     "text": [
      "123电话45\n",
      "12345678\n",
      "电话#电话号码\n",
      "123电话45#电话678号码\n",
      "PHP\n"
     ]
    }
   ],
   "source": [
    "\"\"\"\n",
    "re：regular expression表示正则表达式\n",
    "sub：substitute表示替换\n",
    "re.sub通过正则表达式实现比replace更加强大的字符串替换功能\n",
    "\n",
    "re.sub(pattern, repl, string, count, flags)参数count, flags可选\n",
    "pattern表示正则中的模式字符串，或者要删除的字符\n",
    "repl：replacement表示要替换为此字符串，也可以是函数\n",
    "string表示要被处理的字符串\n",
    "count指定要替换的个数\n",
    "\"\"\"\n",
    "import re\n",
    "\n",
    "phone = '123电话45#电话678号码'\n",
    "print(re.sub('#.*','',phone))# 删除#后所有字符\n",
    "print(re.sub('\\D','',phone))# 删除字符串中所有字符\n",
    "print(re.sub('\\d','',phone))# 删除字符串中所有数字\n",
    "print(phone)# 不改变原字符串\n",
    "\n",
    "inputStr=\"hello python,ni hao c,zai jian python\"\n",
    "replaceStr=re.sub(r\"hello (\\w+),ni hao (\\w+),zai jian \\1\",\"PHP\",inputStr)\n",
    "print(replaceStr)"
   ]
  },
  {
   "cell_type": "code",
   "execution_count": 53,
   "metadata": {},
   "outputs": [
    {
     "name": "stdout",
     "output_type": "stream",
     "text": [
      "fgsdhagj432566\n",
      "fgsdhaj43256\n",
      "\n",
      "56fgsdhaj432\n",
      "23456adfghjs\n"
     ]
    }
   ],
   "source": [
    "# 华为笔试题\n",
    "\n",
    "# 输入字符串，输出去重的合法字符串和非法字符串、合法字符串循环左移10次并按ASCII排序\n",
    "\n",
    "strs = input()\n",
    "legal = []\n",
    "illegal = []\n",
    "n = 10\n",
    "\n",
    "# 输出去重的合法字符串和非法字符串\n",
    "for i in strs:\n",
    "    if i.isalnum():\n",
    "        if i not in legal:\n",
    "            legal.append(i)\n",
    "    else:\n",
    "        illegal.append(i)\n",
    "print(''.join(legal))\n",
    "print(''.join(illegal))\n",
    "\n",
    "# 合法字符串循环左移10次\n",
    "if len(legal) < n:\n",
    "    n = n % len(legal)\n",
    "legal_left = legal[n:] + legal[:n]\n",
    "print(''.join(legal_left))\n",
    "\n",
    "# ASCII排序\n",
    "legal_sort = sorted(legal)\n",
    "print(''.join(legal_sort))"
   ]
  },
  {
   "cell_type": "code",
   "execution_count": 35,
   "metadata": {},
   "outputs": [
    {
     "name": "stdout",
     "output_type": "stream",
     "text": [
      "['a', 'b', 'c', '1', '2', '3']\n",
      "abc123\n"
     ]
    }
   ],
   "source": [
    "# # 判断字符串为字母或数字\n",
    "# s.isnumeric()# 只包含数字(unicode string)\n",
    "# s.isdigit()# 只包含数字\n",
    "# s.isalpha()# 只包含字母\n",
    "# s.isalnum()# 只包含字母或者数字\n",
    "# s.isspace()# 只包含空白字符"
   ]
  },
  {
   "cell_type": "code",
   "execution_count": null,
   "metadata": {},
   "outputs": [],
   "source": [
    "L=[('b',2),('a',1),('c',3),('d',4)]\n",
    ">>> sorted(L, cmp=lambda x,y:cmp(x[1],y[1]))   # 利用cmp函数\n",
    "[('a', 1), ('b', 2), ('c', 3), ('d', 4)]\n",
    ">>> sorted(L, key=lambda x:x[1])               # 利用key\n",
    "[('a', 1), ('b', 2), ('c', 3), ('d', 4)]"
   ]
  },
  {
   "cell_type": "code",
   "execution_count": 1,
   "metadata": {},
   "outputs": [
    {
     "name": "stdout",
     "output_type": "stream",
     "text": [
      "dghjgfhjgahgjkg udgshauy77382678 hdfsjka\n",
      "77382678 hdfsjka0 udgshauy\n"
     ]
    }
   ],
   "source": [
    "# 华为笔试题\n",
    "\n",
    "# 一行输入多个字符串，字符串通过空格分开，第一个字符为字符串的数量\n",
    "# 将每个字符串分割成长度为8的子字符串，子字符串长度不足8时后面补0\n",
    "# 最后对分割后的所有子字符串排序，并以空格作为间隔输出\n",
    "\n",
    "str_in = input()\n",
    "str_list = str_in.strip().split()\n",
    "\n",
    "str_out = []\n",
    "\n",
    "for line in str_list[1:]:\n",
    "    count = len(line) // 8\n",
    "    for i in range(count):\n",
    "        str_out.append(line[i*8:(i+1)*8])\n",
    "        \n",
    "    if count*8 < len(line):\n",
    "        tem = line[count*8:]\n",
    "        for j in range(8 - len(tem)):\n",
    "            tem += '0'\n",
    "            \n",
    "        str_out.append(tem)\n",
    "                \n",
    "str_out.sort()\n",
    "\n",
    "res = ' '.join(str_out)\n",
    "print(res)"
   ]
  },
  {
   "cell_type": "code",
   "execution_count": 6,
   "metadata": {},
   "outputs": [
    {
     "name": "stdout",
     "output_type": "stream",
     "text": [
      "abc3(AB)\n",
      "BABABAcba\n"
     ]
    }
   ],
   "source": [
    "# 华为笔试题\n",
    "\n",
    "# 输入一个字符串，将括号里面的字符串复制括号前的数字次，并反序输出\n",
    "# abc3(A)\n",
    "\n",
    "def out_s(s):\n",
    "    res = []\n",
    "    for i in s:\n",
    "        if i == ']':\n",
    "            current = []\n",
    "            while res[-1] != '[':\n",
    "                current.append(res.pop())\n",
    "            res.pop()\n",
    "            mul, ind = 0, 0\n",
    "            while res and res[-1].isdigit():\n",
    "                mul += int(res.pop()) * pow(10, ind)\n",
    "                ind += 1\n",
    "            res += current[::-1] * mul\n",
    "        else:\n",
    "            res.append(i)\n",
    "    res.reverse()\n",
    "    return res\n",
    "\n",
    "if __name__ == '__main__':\n",
    "    s = input()\n",
    "    s = s.replace('(', '[')\n",
    "    s = s.replace('{', '[')\n",
    "    s= s.replace(')', ']')\n",
    "    s = s.replace('}', ']')\n",
    "    res = out_s(s)\n",
    "    print(''.join(res))"
   ]
  },
  {
   "cell_type": "code",
   "execution_count": 10,
   "metadata": {},
   "outputs": [
    {
     "name": "stdout",
     "output_type": "stream",
     "text": [
      "120 130\n",
      "str mul: 15600 <class 'str'>\n",
      "mul: 15600\n"
     ]
    }
   ],
   "source": [
    "# 大整数相乘\n",
    "\n",
    "# 思路：第一个数的第i位和第二个的数第j位相乘，一定累加到结果的第i+j位上，index从0开始算\n",
    "\n",
    "def multi(a, b):\n",
    "    \n",
    "    # a,b转list，并反序\n",
    "    la, lb = list(a)[::-1], list(b)[::-1]\n",
    "    lena, lenb = len(a), len(b)\n",
    "    result = [0 for i in range(lena+lenb)]\n",
    "    \n",
    "    # 计算结果中各个位置的值\n",
    "    for i in range(lena):\n",
    "        for j in range(lenb):\n",
    "            result[i+j] += int(la[i]) * int(lb[j])\n",
    "            \n",
    "    # 考虑进位\n",
    "    for i in range(len(result)-1):\n",
    "        if result[i] >= 10:\n",
    "            result[i+1] += result[i] // 10\n",
    "            result[i] = result[i] % 10\n",
    "    \n",
    "    # 删除末位为0的元素\n",
    "    while result[-1] == 0:\n",
    "        del result[-1]\n",
    "    \n",
    "    # list转string\n",
    "    result = result[::-1]\n",
    "    str_res = ''\n",
    "    for i in result:\n",
    "        str_res += str(i)\n",
    "            \n",
    "    return str_res\n",
    "\n",
    "if __name__ == '__main__':\n",
    "    a, b = input().split()\n",
    "    res = multi(a, b)\n",
    "    print('str mul:', res, type(res))\n",
    "    print('mul:', int(a)*int(b))"
   ]
  }
 ],
 "metadata": {
  "kernelspec": {
   "display_name": "Python 3",
   "language": "python",
   "name": "python3"
  },
  "language_info": {
   "codemirror_mode": {
    "name": "ipython",
    "version": 3
   },
   "file_extension": ".py",
   "mimetype": "text/x-python",
   "name": "python",
   "nbconvert_exporter": "python",
   "pygments_lexer": "ipython3",
   "version": "3.7.0"
  }
 },
 "nbformat": 4,
 "nbformat_minor": 2
}
