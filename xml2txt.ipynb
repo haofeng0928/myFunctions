{
 "cells": [
  {
   "cell_type": "code",
   "execution_count": null,
   "metadata": {},
   "outputs": [],
   "source": [
    "# 标签文件xml转txt\n",
    "\n",
    "import xml.etree.ElementTree as ET\n",
    "import pickle\n",
    "import os\n",
    "from os import listdir, getcwd\n",
    "from os.path import join\n",
    "\n",
    "classes = [\"criminal\", \"everyman\", \"police\"]# 改为自己要测的目标类别\n",
    "\n",
    "def convert(size, box):\n",
    "    dw = 1./(size[0])\n",
    "    dh = 1./(size[1])\n",
    "    x = (box[0] + box[1])/2.0 - 1\n",
    "    y = (box[2] + box[3])/2.0 - 1\n",
    "    w = box[1] - box[0]\n",
    "    h = box[3] - box[2]\n",
    "    x = x*dw\n",
    "    w = w*dw\n",
    "    y = y*dh\n",
    "    h = h*dh\n",
    "    return (x,y,w,h)\n",
    " \n",
    "def convert_annotation(image_id):\n",
    "    in_file = open('/home/fh/myProject/myData/VOCdevkit/VOC2018/Annotations/%s.xml'%(image_id))# xml文件路径\n",
    "    out_file = open('/home/fh/myProject/myData/VOCdevkit/VOC2018/yolo_label/%s.txt'%(image_id), 'w')# txt文件保存路径\n",
    "    tree=ET.parse(in_file)# 解析xml文件\n",
    "    root = tree.getroot()# 获取xml文件的根节点\n",
    "    size = root.find('size')# 获取指定节点“图像尺寸”\n",
    "    w = int(size.find('width').text)# 获取图像宽\n",
    "    h = int(size.find('height').text)# 图像高\n",
    " \n",
    "    for obj in root.iter('object'):\n",
    "        difficult = obj.find('difficult').text# xml里的difficult参数\n",
    "        cls = obj.find('name').text# 要检测的类别名称\n",
    "        if cls not in classes or int(difficult)==1:\n",
    "            continue\n",
    "        cls_id = classes.index(cls)\n",
    "        xmlbox = obj.find('bndbox')\n",
    "        b = (float(xmlbox.find('xmin').text), float(xmlbox.find('xmax').text), float(xmlbox.find('ymin').text), float(xmlbox.find('ymax').text))\n",
    "        bb = convert((w,h), b)\n",
    "        out_file.write(str(cls_id) + \" \" + \" \".join([str(a) for a in bb]) + '\\n')\n",
    " \n",
    " \n",
    "# VOC数据集，将VOCdevkit/VOC2007/ImageSets/Main/文件夹下所有txt循环读入\n",
    "#这里只读待训练图像的路径list.txt\n",
    "image_paths = open('/home/fh/myProject/myData/VOCdevkit/VOC2018/ImageSets/Main/trainval.txt').read().strip().split()\n",
    "#list_file = open('train.txt', 'w')\n",
    "for image_path in image_paths:\n",
    "    #list_file.write('/root/darknet-master/data/obj/%s.jpg\\n'%(image_id))\n",
    "    image_id = os.path.split(image_path)[1]# image_id内容类似'0001.jpg'\n",
    "    image_id2 = os.path.splitext(image_id)[0]# image_id2内容类似'0001'\n",
    "    convert_annotation(image_id2)\n"
   ]
  }
 ],
 "metadata": {
  "kernelspec": {
   "display_name": "Python 3",
   "language": "python",
   "name": "python3"
  },
  "language_info": {
   "codemirror_mode": {
    "name": "ipython",
    "version": 3
   },
   "file_extension": ".py",
   "mimetype": "text/x-python",
   "name": "python",
   "nbconvert_exporter": "python",
   "pygments_lexer": "ipython3",
   "version": "3.6.5"
  }
 },
 "nbformat": 4,
 "nbformat_minor": 2
}
